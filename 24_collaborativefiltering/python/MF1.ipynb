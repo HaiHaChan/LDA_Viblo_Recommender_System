{
 "cells": [
  {
   "cell_type": "code",
   "execution_count": 1,
   "metadata": {
    "collapsed": true
   },
   "outputs": [],
   "source": [
    "import pandas as pd \n",
    "import numpy as np\n",
    "from sklearn.metrics.pairwise import cosine_similarity\n",
    "from scipy import sparse \n",
    "from sklearn.model_selection import train_test_split\n",
    "\n",
    "class MF(object):\n",
    "    def __init__(self, Y, k, X = None, W = None, lamda = 0.1,\n",
    "                dist_func = cosine_similarity, learning_rate = 0.5, max_iter = 1000, user_based = 1):\n",
    "        self.f = open('danhgiaMF.dat', 'a+')\n",
    "        self.Y = Y\n",
    "        self.lamda = lamda\n",
    "        self.k = k\n",
    "        self.dist_func = dist_func\n",
    "        self.learning_rate = learning_rate\n",
    "        self.max_iter = max_iter\n",
    "        self.user_based = user_based\n",
    "        self.users_count = int(np.max(self.Y[:, 0])) + 1\n",
    "        self.items_count = int(np.max(self.Y[:, 1])) + 1\n",
    "        self.ratings_count = Y.shape[0]\n",
    "        if X == None:\n",
    "            self.X = np.random.randn(self.items_count, k)\n",
    "        if W == None:\n",
    "            self.W = np.random.randn(k, self.users_count)\n",
    "        self.Ybar = self.Y.copy()\n",
    "        \n",
    "    def normalizeY(self):\n",
    "        if self.user_based:\n",
    "            user_col = 0\n",
    "            item_col = 1\n",
    "            n_objects = self.users_count\n",
    "        else:\n",
    "            user_col = 1\n",
    "            item_col = 0 \n",
    "            n_objects = self.items_count\n",
    "        users = self.Y[:, user_col]\n",
    "        self.mu = np.zeros((n_objects,))\n",
    "        for i in range(n_objects):\n",
    "            ids = np.where(users == i)[0].astype(int)\n",
    "            ratings = self.Y[ids, 2]\n",
    "            m = np.mean(ratings)\n",
    "            if np.isnan(m):\n",
    "                m = 0\n",
    "            self.mu[i] = m\n",
    "            self.Ybar[ids, 2] = ratings - self.mu[i]\n",
    "#         print(self.Ybar)\n",
    "    \n",
    "    def get_user_rated_item(self, i):\n",
    "        ids = np.where(i == self.Ybar[:, 1])[0].astype(int)\n",
    "        users = self.Ybar[ids, 0].astype(int)\n",
    "        ratings = self.Ybar[ids, 2]\n",
    "        \n",
    "        return (users, ratings)\n",
    "        \n",
    "\n",
    "    def get_item_rated_by_user(self, u):\n",
    "        ids = np.where(u == self.Ybar[:, 0])[0].astype(int)\n",
    "        items = self.Ybar[ids, 1].astype(int)\n",
    "        ratings = self.Ybar[ids, 2]\n",
    "        \n",
    "        return (items, ratings)\n",
    "    \n",
    "    def updateX(self):\n",
    "        for i in range(self.items_count):\n",
    "            users, ratings = self.get_user_rated_item(i)\n",
    "            Wi = self.W[:, users]\n",
    "            a = -(ratings - self.X[i, :].dot(Wi)).dot(Wi.T)/self.ratings_count + \\\n",
    "            self.lamda*self.X[i, :]\n",
    "            self.X[i, :] -= self.learning_rate*(a).reshape((self.k,))\n",
    "        \n",
    "    def updateW(self):\n",
    "        for u in range(self.users_count):\n",
    "            items, ratings = self.get_item_rated_by_user(u)\n",
    "            Xn = self.X[items, :]\n",
    "            a = -Xn.T.dot(ratings - Xn.dot(self.W[:, u]))/self.ratings_count + self.lamda*self.W[:, u]\n",
    "            self.W[:, u] -= self.learning_rate*(a).reshape((self.k,))\n",
    "        \n",
    "    def fit(self):\n",
    "        self.normalizeY()\n",
    "        for it in range(self.max_iter):\n",
    "            self.updateX()\n",
    "            self.updateW()\n",
    "            \n",
    "    def pred(self, u, i):\n",
    "        u = int(u)\n",
    "        i = int(i)\n",
    "        if self.user_based:\n",
    "            bias = self.mu[u]\n",
    "        else: \n",
    "            bias = self.mu[i]\n",
    "        pred = self.X[i, :].dot(self.W[:, u]) + bias\n",
    "        \n",
    "        if pred < 1:\n",
    "            return 1 \n",
    "        if pred > 5: \n",
    "            return 5\n",
    "        return pred\n",
    "    \n",
    "    def RMSE(self, data_size, Data_test, test_size = 0.1):\n",
    "        n_tests = Data_test.shape[0]\n",
    "        SE = 0\n",
    "        for n in range(n_tests):\n",
    "            if Data_test[n, 1] == 1681:\n",
    "                pred = 0\n",
    "            else:\n",
    "                pred = self.pred(Data_test[n, 0], Data_test[n, 1])\n",
    "            SE += (pred - Data_test[n, 2])**2 \n",
    "\n",
    "        RMSE = np.sqrt(SE/n_tests)\n",
    "        print('RMSE =', RMSE)\n",
    "        if self.user_based:\n",
    "            print('%s::1::%d::cosine_similarity::%r::%r\\r\\n' % (str(data_size), self.k, test_size, RMSE))\n",
    "            self.f.write('%s::1::%d::cosine_similarity::%r::%r\\r\\n' % (str(data_size), self.k, test_size, RMSE))\n",
    "        else:\n",
    "            print('%s::0::%d::cosine_similarity::%r::%r\\r\\n' % (str(data_size), self.k, test_size, RMSE))\n",
    "            self.f.write('%s::0::%d::cosine_similarity::%r::%r\\r\\n' % (str(data_size), self.k, test_size, RMSE))\n",
    "        self.f.close()"
   ]
  },
  {
   "cell_type": "code",
   "execution_count": 5,
   "metadata": {},
   "outputs": [
    {
     "name": "stderr",
     "output_type": "stream",
     "text": [
      "/home/tran.thi.hai.ha/anaconda3/lib/python3.6/site-packages/ipykernel_launcher.py:2: ParserWarning: Falling back to the 'python' engine because the 'c' engine does not support regex separators (separators > 1 char and different from '\\s+' are interpreted as regex); you can avoid this warning by specifying engine='python'.\n",
      "  \n",
      "/home/tran.thi.hai.ha/anaconda3/lib/python3.6/site-packages/numpy/core/fromnumeric.py:3118: RuntimeWarning: Mean of empty slice.\n",
      "  out=out, **kwargs)\n",
      "/home/tran.thi.hai.ha/anaconda3/lib/python3.6/site-packages/numpy/core/_methods.py:85: RuntimeWarning: invalid value encountered in double_scalars\n",
      "  ret = ret.dtype.type(ret / rcount)\n"
     ]
    },
    {
     "name": "stdout",
     "output_type": "stream",
     "text": [
      "RMSE = 0.981551914764402\n",
      "1M::0::2::cosine_similarity::0.2::0.981551914764402\n",
      "\n",
      "RMSE = 1.037606663188771\n",
      "1M::1::2::cosine_similarity::0.2::1.037606663188771\n",
      "\n",
      "RMSE = 0.9806335336422325\n",
      "1M::0::2::cosine_similarity::0.30000000000000004::0.9806335336422325\n",
      "\n",
      "RMSE = 1.0369936764645347\n",
      "1M::1::2::cosine_similarity::0.30000000000000004::1.0369936764645347\n",
      "\n",
      "RMSE = 0.980216476770738\n",
      "1M::0::2::cosine_similarity::0.4000000000000001::0.980216476770738\n",
      "\n",
      "RMSE = 1.0362479676878835\n",
      "1M::1::2::cosine_similarity::0.4000000000000001::1.0362479676878835\n",
      "\n",
      "RMSE = 0.9817307666356478\n",
      "1M::0::2::cosine_similarity::0.5000000000000001::0.9817307666356478\n",
      "\n",
      "RMSE = 1.0378532872672301\n",
      "1M::1::2::cosine_similarity::0.5000000000000001::1.0378532872672301\n",
      "\n"
     ]
    }
   ],
   "source": [
    "r_cols = ['user_id', 'movie_id', 'rating', 'timestemp']\n",
    "ratings = pd.read_csv('mvl/1M.dat', sep = '::', names = r_cols, encoding='latin-1')\n",
    "Y_data = ratings.as_matrix()\n",
    "for testSize in np.arange(0.2, 0.6, 0.1):\n",
    "    Data_train, Data_test= train_test_split(Y_data, test_size=testSize, random_state=20)\n",
    "    for j in [0, 1]:\n",
    "        rs = MF(Data_train, k = 2, lamda = 0.1, learning_rate = 2, max_iter = 10, user_based = j)\n",
    "        rs.fit()\n",
    "        rs.RMSE('1M', Data_test, test_size = testSize)"
   ]
  },
  {
   "cell_type": "code",
   "execution_count": null,
   "metadata": {},
   "outputs": [
    {
     "name": "stderr",
     "output_type": "stream",
     "text": [
      "/home/tran.thi.hai.ha/anaconda3/lib/python3.6/site-packages/ipykernel_launcher.py:2: ParserWarning: Falling back to the 'python' engine because the 'c' engine does not support regex separators (separators > 1 char and different from '\\s+' are interpreted as regex); you can avoid this warning by specifying engine='python'.\n",
      "  \n",
      "/home/tran.thi.hai.ha/anaconda3/lib/python3.6/site-packages/numpy/core/fromnumeric.py:3118: RuntimeWarning: Mean of empty slice.\n",
      "  out=out, **kwargs)\n",
      "/home/tran.thi.hai.ha/anaconda3/lib/python3.6/site-packages/numpy/core/_methods.py:85: RuntimeWarning: invalid value encountered in double_scalars\n",
      "  ret = ret.dtype.type(ret / rcount)\n"
     ]
    }
   ],
   "source": [
    "r_cols = ['user_id', 'movie_id', 'rating', 'unix_timestamp']\n",
    "ratings = pd.read_csv('mvl/10M.dat', sep = '::', names = r_cols, encoding='latin-1')\n",
    "Y_data = ratings.as_matrix()\n",
    "\n",
    "for testSize in np.arange(0.1, 0.5, 0.1):\n",
    "    Data_train, Data_test= train_test_split(Y_data, test_size=testSize, random_state=20)\n",
    "    for x in [2, 5, 10]:\n",
    "        rs = MF(Data_train, k = x, lamda = 0.1, learning_rate = 2, max_iter = 10, user_based = 0)\n",
    "        rs.fit()\n",
    "        rs.RMSE('10M', Data_test, test_size = testSize)"
   ]
  },
  {
   "cell_type": "code",
   "execution_count": null,
   "metadata": {
    "collapsed": true
   },
   "outputs": [],
   "source": [
    "r_cols = ['user_id', 'movie_id', 'rating', 'timestemp']\n",
    "\n",
    "ratings_base_1 = pd.read_csv('mvl/100K.base', sep='\\t', names=r_cols, encoding='latin-1', engine='python')\n",
    "\n",
    "ratings_matrix_1 = ratings_base_1.as_matrix()\n",
    "\n",
    "ratings_matrix_1[:, :2] -= 1\n",
    "\n",
    "testSize = 0.1\n",
    "Data_train_1, Data_test_1= train_test_split(ratings_matrix_1, test_size = testSize, random_state=20)\n",
    "\n",
    "rs_1 = MF(Data_train_1, k = 100, lamda = 0.01, learning_rate = 2)\n",
    "rs_1.fit()\n",
    "\n",
    "rs_1.RMSE(\"100K\", Data_test_1, test_size = testSize)"
   ]
  },
  {
   "cell_type": "code",
   "execution_count": null,
   "metadata": {
    "collapsed": true
   },
   "outputs": [],
   "source": [
    "r_cols = ['user_id', 'item_id', 'rating']\n",
    "ratings = pd.read_csv('ex.dat', sep = ' ', names = r_cols, encoding='latin-1')\n",
    "Y_data = ratings.as_matrix()\n",
    "\n",
    "rs = MF(Y_data, k = 2)\n",
    "\n",
    "rs.fit()\n",
    "rs.pred(6, 1)"
   ]
  },
  {
   "cell_type": "code",
   "execution_count": 2,
   "metadata": {},
   "outputs": [
    {
     "name": "stdout",
     "output_type": "stream",
     "text": [
      "   dataset  uMF    k          dist_func  test_size      RMSE\n",
      "0     100K    0   10  cosine_similarity        0.1  1.048642\n",
      "1     100K    1   10  cosine_similarity        0.1  1.060380\n",
      "2     100K    0   10  cosine_similarity        0.1  1.048642\n",
      "3     100K    1   10  cosine_similarity        0.1  1.060380\n",
      "4     100K    0   10  cosine_similarity        0.1  1.048642\n",
      "5     100K    1  100  cosine_similarity        0.1  1.043703\n",
      "6       1M    0    2  cosine_similarity        0.1  0.981748\n",
      "7       1M    1    2  cosine_similarity        0.1  1.036504\n",
      "8       1M    0    5  cosine_similarity        0.1  0.981967\n",
      "9       1M    1    5  cosine_similarity        0.1  1.036630\n",
      "10      1M    0   10  cosine_similarity        0.1  0.982461\n",
      "11      1M    1   10  cosine_similarity        0.1  1.036941\n",
      "12      1M    0    2  cosine_similarity        0.2  0.981552\n",
      "13      1M    1    2  cosine_similarity        0.2  1.037607\n",
      "14      1M    0    2  cosine_similarity        0.3  0.980634\n",
      "15      1M    1    2  cosine_similarity        0.3  1.036994\n",
      "16      1M    0    2  cosine_similarity        0.4  0.980216\n",
      "17      1M    1    2  cosine_similarity        0.4  1.036248\n",
      "18      1M    0    2  cosine_similarity        0.5  0.981731\n",
      "19      1M    1    2  cosine_similarity        0.5  1.037853\n"
     ]
    },
    {
     "data": {
      "image/png": "[encoded data removed]",
      "text/plain": [
       "<matplotlib.figure.Figure at 0x7fbea3966748>"
      ]
     },
     "metadata": {},
     "output_type": "display_data"
    },
    {
     "data": {
      "image/png": "[encoded data removed]",
      "text/plain": [
       "<matplotlib.figure.Figure at 0x7fbe9f08f8d0>"
      ]
     },
     "metadata": {},
     "output_type": "display_data"
    }
   ],
   "source": [
    "import pandas as pd \n",
    "import matplotlib.pyplot as plt\n",
    "import numpy as np\n",
    "\n",
    "r_cols = ['dataset', 'uMF', 'k','dist_func', 'test_size', 'RMSE']\n",
    "\n",
    "RMSEs = pd.read_csv('danhgiaMF.dat', sep='::', names=r_cols, encoding='latin-1', engine='python')\n",
    "\n",
    "rs = RMSEs.as_matrix()\n",
    "print(RMSEs)\n",
    "dataset = rs[:, 0]\n",
    "uMF = rs[:, 1]\n",
    "\n",
    "for n in ['100K', '1M']:\n",
    "    ids_ii = np.where((dataset == n) & (uMF == 0))[0].astype(np.int32)\n",
    "    ids_uu = np.where((dataset == n) & (uMF == 1))[0].astype(np.int32)\n",
    "    items_ii = rs[ids_ii, 5]\n",
    "    items_uu = rs[ids_uu, 5]\n",
    "    t_ii = range(1, ids_ii.shape[0] + 1, 1)\n",
    "    t_uu = range(1, ids_uu.shape[0] + 1, 1)\n",
    "    plt.plot(t_ii, items_ii, 'g^', t_uu, items_uu, 'bs')\n",
    "    plt.show()"
   ]
  }
 ],
 "metadata": {
  "kernelspec": {
   "display_name": "Python 3",
   "language": "python",
   "name": "python3"
  },
  "language_info": {
   "codemirror_mode": {
    "name": "ipython",
    "version": 3
   },
   "file_extension": ".py",
   "mimetype": "text/x-python",
   "name": "python",
   "nbconvert_exporter": "python",
   "pygments_lexer": "ipython3",
   "version": "3.6.3"
  }
 },
 "nbformat": 4,
 "nbformat_minor": 2
}
