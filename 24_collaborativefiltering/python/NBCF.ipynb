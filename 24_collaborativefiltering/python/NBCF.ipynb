{
 "cells": [
  {
   "cell_type": "markdown",
   "metadata": {},
   "source": [
    "1. Class Neighborhood-Based Collaborative Filtering"
   ]
  },
  {
   "cell_type": "code",
   "execution_count": 1,
   "metadata": {
    "collapsed": true
   },
   "outputs": [],
   "source": [
    "import pandas as pd \n",
    "import numpy as np\n",
    "from sklearn.metrics.pairwise import cosine_similarity\n",
    "from scipy import sparse\n",
    "\n",
    "class NBCF(object):\n",
    "    def __init__(self, Y_data, k, dist_func = cosine_similarity, test_size = 0.1, uuCF = 1):\n",
    "        self.f = open('danhgia.dat', 'a+')\n",
    "        self.uuCF = uuCF # user-user (1) or item-item (0) CF\n",
    "        self.Y_data = Y_data if uuCF else Y_data[:, [1, 0, 2]]\n",
    "        self.k = k\n",
    "        self.dist_func = dist_func\n",
    "        self.Ybar_data = None\n",
    "        # number of users and items. Remember to add 1 since id starts from 0\n",
    "        self.n_users = int(np.max(self.Y_data[:, 0])) + 1 \n",
    "        self.n_items = int(np.max(self.Y_data[:, 1])) + 1\n",
    "        self.test_size = test_size\n",
    "    \n",
    "    def normalize_Y(self):\n",
    "        users = self.Y_data[:, 0]\n",
    "        self.Ybar_data = self.Y_data.copy()\n",
    "        self.mu = np.zeros((self.n_users,))\n",
    "        for n in range(self.n_users):\n",
    "            ids = np.where(users == n)[0].astype(np.int32)\n",
    "            item_ids = self.Y_data[ids, 1]\n",
    "            ratings = self.Y_data[ids, 2]\n",
    "            m = np.mean(ratings) \n",
    "            if np.isnan(m):\n",
    "                m = 0 \n",
    "            self.mu[n] = m\n",
    "            \n",
    "            # normalize\n",
    "            self.Ybar_data[ids, 2] = ratings - self.mu[n]\n",
    "\n",
    "        self.Ybar = sparse.coo_matrix((self.Ybar_data[:, 2],\n",
    "            (self.Ybar_data[:, 1], self.Ybar_data[:, 0])), (self.n_items, self.n_users))\n",
    "        self.Ybar = self.Ybar.tocsr()\n",
    "\n",
    "    def similarity(self):\n",
    "        eps = 1e-6\n",
    "        self.S = self.dist_func(self.Ybar.T, self.Ybar.T)\n",
    "        \n",
    "    def refresh(self):\n",
    "        \"\"\"\n",
    "        Normalize data and calculate similarity matrix again (after\n",
    "        some few ratings added)\n",
    "        \"\"\"\n",
    "        self.normalize_Y()\n",
    "        self.similarity()\n",
    "    \n",
    "    def __pred(self, u, i, normalized = 1):\n",
    "        \"\"\" \n",
    "        predict the rating of user u for item i (normalized)\n",
    "        if you need the un\n",
    "        \"\"\"\n",
    "        # Step 1: find all users who rated i\n",
    "        ids = np.where(self.Y_data[:, 1] == i)[0].astype(np.int32)\n",
    "        if u == 915 and i == 1681:\n",
    "            print(ids)\n",
    "        # Step 2: \n",
    "        users_rated_i = (self.Y_data[ids, 0]).astype(np.int32)\n",
    "        if u == 915 and i == 1681:\n",
    "            print(users_rated_i)\n",
    "        # Step 3: find similarity btw the current user and others \n",
    "        # who already rated i\n",
    "        sim = self.S[u, users_rated_i]\n",
    "        if u == 915 and i == 1681:\n",
    "            print('sim:', sim)\n",
    "        # Step 4: find the k most similarity users\n",
    "        a = np.argsort(sim)[-self.k:] \n",
    "        # and the corresponding similarity levels\n",
    "        nearest_s = sim[a]\n",
    "        # How did each of 'near' users rated item i\n",
    "        r = self.Ybar[i, users_rated_i[a]]\n",
    "        if normalized:\n",
    "            # add a small number, for instance, 1e-8, to avoid dividing by 0\n",
    "            return (r*nearest_s)[0]/(np.abs(nearest_s).sum() + 1e-8)\n",
    "\n",
    "        return (r*nearest_s)[0]/(np.abs(nearest_s).sum() + 1e-8) + self.mu[u]\n",
    "    \n",
    "    def pred(self, u, i, normalized = 1):\n",
    "        \"\"\" \n",
    "        predict the rating of user u for item i (normalized)\n",
    "        if you need the un\n",
    "        \"\"\"\n",
    "        if self.uuCF: return self.__pred(u, i, normalized)\n",
    "        return self.__pred(i, u, normalized)\n",
    "    \n",
    "    def recommend(self, u):\n",
    "        \"\"\"\n",
    "        Determine all items should be recommended for user u.\n",
    "        The decision is made based on all i such that:\n",
    "        self.pred(u, i) > 0. Suppose we are considering items which \n",
    "        have not been rated by u yet. \n",
    "        \"\"\"\n",
    "        ids = np.where(self.Y_data[:, 0] == u)[0]\n",
    "        items_rated_by_u = self.Y_data[ids, 1].tolist()              \n",
    "        recommended_items = []\n",
    "        for i in range(self.n_items):\n",
    "            if i not in items_rated_by_u:\n",
    "                rating = self.__pred(u, i)\n",
    "                if rating > 0: \n",
    "                    recommended_items.append(i)\n",
    "        \n",
    "        return recommended_items \n",
    "    \n",
    "    def recommend2(self, u):\n",
    "        \"\"\"\n",
    "        Determine all items should be recommended for user u.\n",
    "        The decision is made based on all i such that:\n",
    "        self.pred(u, i) > 0. Suppose we are considering items which \n",
    "        have not been rated by u yet. \n",
    "        \"\"\"\n",
    "        ids = np.where(self.Y_data[:, 0] == u)[0]\n",
    "        items_rated_by_u = self.Y_data[ids, 1].tolist()              \n",
    "        recommended_items = []\n",
    "    \n",
    "        for i in range(self.n_items):\n",
    "            if i not in items_rated_by_u:\n",
    "                rating = self.__pred(u, i)\n",
    "                if rating > 0: \n",
    "                    recommended_items.append(i)\n",
    "        \n",
    "        return recommended_items \n",
    "\n",
    "    def print_recommendation(self):\n",
    "        \"\"\"\n",
    "        print all items which should be recommended for each user \n",
    "        \"\"\"\n",
    "        print('Recommendation: ')\n",
    "        for u in range(self.n_users):\n",
    "            recommended_items = self.recommend(u)\n",
    "            if self.uuCF:\n",
    "                print('    Recommend item(s):', recommended_items, 'for user', u)\n",
    "            else: \n",
    "                print('    Recommend item', u, 'for user(s) : ', recommended_items)\n",
    "\n",
    "    def RMSE(self, data_size, n_tests, Data_test):\n",
    "        SE = 0\n",
    "        for n in range(n_tests):\n",
    "            if Data_test[n, 1] == 1681:\n",
    "                pred = 0\n",
    "            else:\n",
    "                pred = self.pred(Data_test[n, 0], Data_test[n, 1], normalized = 0)\n",
    "            SE += (pred - Data_test[n, 2])**2 \n",
    "\n",
    "        RMSE = np.sqrt(SE/n_tests)\n",
    "        if self.uuCF == 1:\n",
    "            print('User-user CF, RMSE =', RMSE)\n",
    "            self.f.write('%s::1::%d::cosine_similarity::%r::%r\\r\\n' % (str(data_size), self.k, self.test_size, RMSE))\n",
    "        else:\n",
    "            print('Item-item CF, RMSE =', RMSE)\n",
    "            self.f.write('%s::0::%d::cosine_similarity::%r::%r\\r\\n' % (str(data_size), self.k, self.test_size, RMSE))\n",
    "        self.f.close()"
   ]
  },
  {
   "cell_type": "markdown",
   "metadata": {},
   "source": [
    "2. Lấy dữ liệu"
   ]
  },
  {
   "cell_type": "code",
   "execution_count": 2,
   "metadata": {},
   "outputs": [
    {
     "name": "stdout",
     "output_type": "stream",
     "text": [
      "['10M.dat', '20M.csv', '100K.base', '1M.dat']\n"
     ]
    }
   ],
   "source": [
    "import numpy as np\n",
    "from sklearn.model_selection import train_test_split\n",
    "import os\n",
    "print(os.listdir(\"mvl\"))"
   ]
  },
  {
   "cell_type": "code",
   "execution_count": 3,
   "metadata": {
    "collapsed": true
   },
   "outputs": [],
   "source": [
    "r_cols = ['user_id', 'movie_id', 'rating', 'timestemp']\n",
    "\n",
    "# ratings_base_1 = pd.read_csv('mvl/100K.base', sep='\\t', names=r_cols, encoding='latin-1', engine='python')\n",
    "# ratings_base_2 = pd.read_csv('mvl/1M.dat', sep='::', names=r_cols, encoding='latin-1', engine='python')\n",
    "ratings_base_3 = pd.read_csv('mvl/10M.dat', sep='::', names=r_cols, encoding='latin-1', engine='python')\n",
    "# ratings_base_4 = pd.read_csv('mvl/20M.csv', names=r_cols, encoding='latin-1', engine='python')\n",
    "\n",
    "# ratings_matrix_1 = ratings_base_1.as_matrix()\n",
    "# ratings_matrix_2= ratings_base_2.as_matrix()\n",
    "ratings_matrix_3 = ratings_base_3.as_matrix()\n",
    "# ratings_matrix_4 = ratings_base_4.as_matrix()\n",
    "\n",
    "# indices start from 0\n",
    "# ratings_matrix_1[:, :2] -= 1\n",
    "# ratings_matrix_2[:, :2] -= 1\n",
    "ratings_matrix_3[:, :2] -= 1\n",
    "# ratings_matrix_4[:, :2] -= 1"
   ]
  },
  {
   "cell_type": "code",
   "execution_count": 6,
   "metadata": {},
   "outputs": [
    {
     "name": "stdout",
     "output_type": "stream",
     "text": [
      "1000006\n"
     ]
    }
   ],
   "source": [
    "testSize = 0.1\n",
    "# Data_train_1, Data_test_1= train_test_split(ratings_matrix_1, test_size=testSize, random_state=20)\n",
    "# Data_train_2, Data_test_2= train_test_split(ratings_matrix_2, test_size=testSize, random_state=20)\n",
    "Data_train_3, Data_test_3= train_test_split(ratings_matrix_3, test_size = testSize, random_state = 30)\n",
    "# Data_train_4, Data_test_4= train_test_split(ratings_matrix_4, test_size=testSize, random_state=20)\n",
    "\n",
    "# n_tests_1 = Data_test_1.shape[0]\n",
    "# n_tests_2 = Data_test_2.shape[0]\n",
    "n_tests_3 = Data_test_3.shape[0]\n",
    "# n_tests_4 = Data_test_4.shape[0]\n",
    "print(n_tests_3)"
   ]
  },
  {
   "cell_type": "markdown",
   "metadata": {},
   "source": [
    "Training"
   ]
  },
  {
   "cell_type": "code",
   "execution_count": null,
   "metadata": {},
   "outputs": [
    {
     "name": "stderr",
     "output_type": "stream",
     "text": [
      "/home/tran.thi.hai.ha/anaconda3/lib/python3.6/site-packages/numpy/core/fromnumeric.py:3118: RuntimeWarning: Mean of empty slice.\n",
      "  out=out, **kwargs)\n",
      "/home/tran.thi.hai.ha/anaconda3/lib/python3.6/site-packages/numpy/core/_methods.py:85: RuntimeWarning: invalid value encountered in double_scalars\n",
      "  ret = ret.dtype.type(ret / rcount)\n"
     ]
    }
   ],
   "source": [
    "# rs_uu_1 = NBCF(Data_train_1, k = 40, test_size = testSize, uuCF = 1)\n",
    "# rs_uu_1.refresh()\n",
    "\n",
    "# rs_uu_2 = NBCF(Data_train_2, k = 40, test_size = testSize, uuCF = 1)\n",
    "# rs_uu_2.refresh()\n",
    "\n",
    "rs_uu_3 = NBCF(Data_train_3, k = 30, test_size = testSize, uuCF = 1)\n",
    "rs_uu_3.refresh()\n",
    "rs_uu_3.RMSE(\"10M\", n_tests_3, Data_test_3)\n",
    "\n",
    "# rs_uu_4= NBCF(Data_train_4, k = 30, test_size = testSize, uuCF = 1)\n",
    "# rs_uu_4.refresh()\n",
    "# # rs.print_recommendation()\n",
    "\n",
    "# rs_ii_1 = NBCF(Data_train_1, k = 40, test_size = testSize, uuCF = 0)\n",
    "# rs_ii_1.refresh()\n",
    "\n",
    "# rs_ii_2 = NBCF(Data_train_2, k = 40, test_size = testSize, uuCF = 0)\n",
    "# rs_ii_2.refresh()\n",
    "\n",
    "rs_ii_3 = NBCF(Data_train_3, k = 10, test_size = testSize, uuCF = 0)\n",
    "rs_ii_3.refresh()\n",
    "rs_ii_3.RMSE(\"10M\", n_tests_3, Data_test_3)\n",
    "\n",
    "\n",
    "# rs_ii_4= NBCF(Data_train_4, k = 30, test_size = testSize, uuCF = 0)\n",
    "# rs_ii_4.refresh()"
   ]
  },
  {
   "cell_type": "markdown",
   "metadata": {},
   "source": [
    "Đánh giá"
   ]
  },
  {
   "cell_type": "code",
   "execution_count": null,
   "metadata": {
    "collapsed": true
   },
   "outputs": [],
   "source": [
    "# rs_uu_1.RMSE(\"100K\", n_tests_1, Data_test_1)\n",
    "# rs_ii_1.RMSE(\"100K\", n_tests_1, Data_test_1)\n",
    "\n",
    "# rs_uu_2.RMSE(\"1M\", n_tests_2, Data_test_2)\n",
    "# rs_ii_2.RMSE(\"1M\", n_tests_2, Data_test_2)\n",
    "\n",
    "# rs_uu_4.RMSE(\"20M\", n_tests_4, Data_test_4)\n",
    "# rs_ii_4.RMSE(\"20M\", n_tests_4, Data_test_4)"
   ]
  },
  {
   "cell_type": "markdown",
   "metadata": {},
   "source": [
    "    Vẽ đồ thị đánh giá"
   ]
  },
  {
   "cell_type": "code",
   "execution_count": null,
   "metadata": {
    "collapsed": true
   },
   "outputs": [],
   "source": [
    "import matplotlib.pyplot as plt\n",
    "\n",
    "# evenly sampled time at 200ms intervals\n",
    "t = np.arange(0., 5., 0.2)\n",
    "\n",
    "# red dashes, blue squares and green triangles\n",
    "plt.plot(t, t, 'r--', t, t**2, 'bs', t, t**3, 'g^')\n",
    "plt.show()"
   ]
  }
 ],
 "metadata": {
  "celltoolbar": "Raw Cell Format",
  "kernelspec": {
   "display_name": "Python 3",
   "language": "python",
   "name": "python3"
  },
  "language_info": {
   "codemirror_mode": {
    "name": "ipython",
    "version": 3
   },
   "file_extension": ".py",
   "mimetype": "text/x-python",
   "name": "python",
   "nbconvert_exporter": "python",
   "pygments_lexer": "ipython3",
   "version": "3.6.3"
  }
 },
 "nbformat": 4,
 "nbformat_minor": 2
}
