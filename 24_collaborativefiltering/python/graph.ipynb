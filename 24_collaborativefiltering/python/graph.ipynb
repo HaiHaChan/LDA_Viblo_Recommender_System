{
 "cells": [
  {
   "cell_type": "code",
   "execution_count": 1,
   "metadata": {},
   "outputs": [
    {
     "name": "stdout",
     "output_type": "stream",
     "text": [
      "   dataset  uuCF   k          dist_func  test_size      RMSE\n",
      "0     100K     1  30  cosine_similarity       0.10  0.954972\n",
      "1       1M     1  30  cosine_similarity       0.10  0.928659\n",
      "2     100K     0  30  cosine_similarity       0.10  0.934541\n",
      "3       1M     0  30  cosine_similarity       0.10  0.907685\n",
      "4     100K     1  30  cosine_similarity       0.20  0.963706\n",
      "5       1M     1  30  cosine_similarity       0.20  0.933049\n",
      "6     100K     0  30  cosine_similarity       0.20  0.950537\n",
      "7       1M     0  30  cosine_similarity       0.20  0.911812\n",
      "8     100K     1  30  cosine_similarity       0.30  0.964410\n",
      "9       1M     1  30  cosine_similarity       0.30  0.933850\n",
      "10    100K     0  30  cosine_similarity       0.30  0.957389\n",
      "11      1M     0  30  cosine_similarity       0.30  0.912921\n",
      "12    100K     1  30  cosine_similarity       0.33  0.966732\n",
      "13      1M     1  30  cosine_similarity       0.33  0.935216\n",
      "14    100K     0  30  cosine_similarity       0.33  0.960403\n",
      "15      1M     0  30  cosine_similarity       0.33  0.913828\n",
      "16    100K     1  30  cosine_similarity       0.40  0.975522\n",
      "17      1M     1  30  cosine_similarity       0.40  0.936765\n",
      "18    100K     0  30  cosine_similarity       0.40  0.967749\n",
      "19      1M     0  30  cosine_similarity       0.40  0.916451\n",
      "20    100K     1  40  cosine_similarity       0.10  0.956168\n",
      "21      1M     1  40  cosine_similarity       0.10  0.928401\n",
      "22    100K     0  40  cosine_similarity       0.10  0.935135\n",
      "23      1M     0  40  cosine_similarity       0.10  0.909353\n",
      "24    100K     1  40  cosine_similarity       0.20  0.965187\n",
      "25      1M     1  40  cosine_similarity       0.20  0.932323\n",
      "26    100K     0  40  cosine_similarity       0.20  0.951778\n",
      "27      1M     0  40  cosine_similarity       0.20  0.913360\n",
      "28    100K     1  40  cosine_similarity       0.30  0.965888\n",
      "29      1M     1  40  cosine_similarity       0.30  0.933450\n",
      "30    100K     0  40  cosine_similarity       0.30  0.958058\n",
      "31      1M     0  40  cosine_similarity       0.30  0.914135\n",
      "32    100K     1  40  cosine_similarity       0.40  0.976292\n",
      "33      1M     1  40  cosine_similarity       0.40  0.936311\n",
      "34    100K     0  40  cosine_similarity       0.40  0.968186\n",
      "35      1M     0  40  cosine_similarity       0.40  0.917528\n",
      "36    100K     1  40  cosine_similarity       0.50  0.988237\n",
      "37      1M     1  40  cosine_similarity       0.50  0.942266\n",
      "38    100K     0  40  cosine_similarity       0.50  0.984048\n",
      "39      1M     0  40  cosine_similarity       0.50  0.923617\n",
      "40     10M     0  30  cosine_similarity       0.10  0.926995\n",
      "41     10M     1  30  cosine_similarity       0.10  0.904207\n",
      "42     10M     0  30  cosine_similarity       0.20  0.930734\n",
      "43     10M     1  30  cosine_similarity       0.20  0.908487\n",
      "44     10M     0  30  cosine_similarity       0.33  0.934893\n",
      "45     10M     1  30  cosine_similarity       0.33  0.913628\n",
      "46     10M     0  30  cosine_similarity       0.40  0.938204\n",
      "47     10M     1  30  cosine_similarity       0.40  0.917675\n",
      "48     10M     0  30  cosine_similarity       0.50  0.944136\n",
      "49     10M     1  30  cosine_similarity       0.50  0.923056\n",
      "50     10M     0  50  cosine_similarity       0.10  0.920011\n",
      "51     10M     1  50  cosine_similarity       0.10  0.900106\n",
      "52     10M     0  50  cosine_similarity       0.20  0.922258\n",
      "53     10M     1  50  cosine_similarity       0.20  0.903130\n",
      "54     10M     0  50  cosine_similarity       0.30  0.926396\n",
      "55     10M     1  50  cosine_similarity       0.30  0.907889\n",
      "56     10M     0  50  cosine_similarity       0.40  0.929449\n",
      "57     10M     1  50  cosine_similarity       0.40  0.911294\n",
      "58     10M     0  50  cosine_similarity       0.50  0.935570\n",
      "59     10M     1  50  cosine_similarity       0.50  0.916420\n"
     ]
    }
   ],
   "source": [
    "import pandas as pd \n",
    "import matplotlib.pyplot as plt\n",
    "import numpy as np\n",
    "\n",
    "r_cols = ['dataset', 'uuCF', 'k','dist_func', 'test_size', 'RMSE']\n",
    "\n",
    "RMSEs = pd.read_csv('danhgia.dat', sep='::', names=r_cols, encoding='latin-1', engine='python')\n",
    "\n",
    "rs = RMSEs.as_matrix()\n",
    "print(RMSEs)"
   ]
  },
  {
   "cell_type": "code",
   "execution_count": 2,
   "metadata": {},
   "outputs": [
    {
     "data": {
      "image/png": "[encoded data removed]",
      "text/plain": [
       "<matplotlib.figure.Figure at 0x7f5d97360080>"
      ]
     },
     "metadata": {},
     "output_type": "display_data"
    },
    {
     "data": {
      "image/png": "[encoded data removed]",
      "text/plain": [
       "<matplotlib.figure.Figure at 0x7f5d972c8630>"
      ]
     },
     "metadata": {},
     "output_type": "display_data"
    },
    {
     "data": {
      "image/png": "[encoded data removed]",
      "text/plain": [
       "<matplotlib.figure.Figure at 0x7f5d92a573c8>"
      ]
     },
     "metadata": {},
     "output_type": "display_data"
    }
   ],
   "source": [
    "dataset = rs[:, 0]\n",
    "uuCF = rs[:, 1]\n",
    "\n",
    "for n in ['100K', '1M', '10M']:\n",
    "    ids_ii = np.where((dataset == n) & (uuCF == 0))[0].astype(np.int32)\n",
    "    ids_uu = np.where((dataset == n) & (uuCF == 1))[0].astype(np.int32)\n",
    "    items_ii = rs[ids_ii, 5]\n",
    "    items_uu = rs[ids_uu, 5]\n",
    "    t_ii = range(1, ids_ii.shape[0] + 1, 1)\n",
    "    t_uu = range(1, ids_uu.shape[0] + 1, 1)\n",
    "    plt.plot(t_ii, items_ii, 'g^', t_uu, items_uu, 'bs')\n",
    "    plt.show()"
   ]
  },
  {
   "cell_type": "code",
   "execution_count": 3,
   "metadata": {
    "collapsed": true
   },
   "outputs": [],
   "source": [
    "# # evenly sampled time at 200ms intervals\n",
    "# t = np.arange(0., 5., 0.2)\n",
    "\n",
    "# # red dashes, blue squares and green triangles\n",
    "# plt.plot(t, t, 'r--', t, t**2, 'bs', t, t**3, 'g^')\n",
    "# plt.show()"
   ]
  }
 ],
 "metadata": {
  "kernelspec": {
   "display_name": "Python 3",
   "language": "python",
   "name": "python3"
  },
  "language_info": {
   "codemirror_mode": {
    "name": "ipython",
    "version": 3
   },
   "file_extension": ".py",
   "mimetype": "text/x-python",
   "name": "python",
   "nbconvert_exporter": "python",
   "pygments_lexer": "ipython3",
   "version": "3.6.3"
  }
 },
 "nbformat": 4,
 "nbformat_minor": 2
}
