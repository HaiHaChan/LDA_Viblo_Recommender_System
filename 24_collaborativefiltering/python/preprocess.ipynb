{
 "cells": [
  {
   "cell_type": "code",
   "execution_count": 24,
   "metadata": {
    "collapsed": true
   },
   "outputs": [],
   "source": [
    "import pandas as pd \n",
    "import numpy as np\n",
    "from sklearn.model_selection import train_test_split\n",
    "\n",
    "r_cols = ['user_id', 'movie_id', 'rating', 'timestemp']"
   ]
  },
  {
   "cell_type": "code",
   "execution_count": 114,
   "metadata": {},
   "outputs": [],
   "source": [
    "# ratings_base_2 = pd.read_csv('mvl/1M.dat', sep='::', names=r_cols, encoding='latin-1', engine='python')\n",
    "# ratings_matrix_2= ratings_base_2.as_matrix()\n",
    "# ratings_matrix_2[:, :2] -= 1\n",
    "# Data_train_2, Data_test_2= train_test_split(ratings_matrix_2, test_size = testSize, random_state = 5)\n",
    "\n",
    "# ratings_base_3 = pd.read_csv('mvl/10M.dat', sep='::', names=r_cols, encoding='latin-1', engine='python')\n",
    "# ratings_matrix_3 = ratings_base_3.as_matrix()\n",
    "# ratings_matrix_3[:, :2] -= 1\n",
    "# Data_train_3, Data_test_3= train_test_split(ratings_matrix_3, test_size = testSize, random_state = 5)\n",
    "\n",
    "# ratings_base_4 = pd.read_csv('mvl/20M.csv', names=r_cols, encoding='latin-1', engine='python')\n",
    "# ratings_matrix_4 = ratings_base_4.as_matrix()\n",
    "# ratings_matrix_4[:, :2] -= 1\n",
    "testSize = 0.5\n",
    "Data_train_4, Data_test_4= train_test_split(ratings_matrix_4, test_size=testSize, random_state = 5)"
   ]
  },
  {
   "cell_type": "code",
   "execution_count": 115,
   "metadata": {},
   "outputs": [],
   "source": [
    "df = pd.DataFrame(Data_train_3, columns= r_cols)"
   ]
  },
  {
   "cell_type": "code",
   "execution_count": 116,
   "metadata": {},
   "outputs": [],
   "source": [
    "df.to_csv('mvl_can/20M_train_05.dat', sep=':',  encoding='latin-1', index=False, header=False)"
   ]
  },
  {
   "cell_type": "code",
   "execution_count": 117,
   "metadata": {},
   "outputs": [],
   "source": [
    "dft = pd.DataFrame(Data_test_3, columns= r_cols)\n",
    "df.to_csv('mvl_can/20M_test_05.dat', sep=':', encoding= 'latin-1', index=False, header=False)"
   ]
  },
  {
   "cell_type": "code",
   "execution_count": 118,
   "metadata": {},
   "outputs": [],
   "source": [
    "# f1 = open('1M_train_01.dat', 'a+')\n",
    "# n = Data_train_2.shape[0]\n",
    "# Data_train_2 = Data_train_2.tolist()\n",
    "# for i in range(n):\n",
    "#     f1.write('%d::%d::%r\\r\\n' % (Data_train_2[i][0], Data_train_2[i][1], Data_train_2[i][2]))\n",
    "# f1.close()"
   ]
  }
 ],
 "metadata": {
  "kernelspec": {
   "display_name": "Python 3",
   "language": "python",
   "name": "python3"
  },
  "language_info": {
   "codemirror_mode": {
    "name": "ipython",
    "version": 3
   },
   "file_extension": ".py",
   "mimetype": "text/x-python",
   "name": "python",
   "nbconvert_exporter": "python",
   "pygments_lexer": "ipython3",
   "version": "3.6.3"
  }
 },
 "nbformat": 4,
 "nbformat_minor": 2
}
